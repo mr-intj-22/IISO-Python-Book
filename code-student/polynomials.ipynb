{
 "cells": [
  {
   "cell_type": "markdown",
   "metadata": {},
   "source": [
    "Plot a Line"
   ]
  },
  {
   "cell_type": "code",
   "execution_count": null,
   "metadata": {},
   "outputs": [],
   "source": [
    "import matplotlib.pyplot as plt\n",
    "\n",
    "def line(X: list[int], a: float, b: float) -> list[float]:\n",
    "    Y: list[float] = [] # empty list\n",
    "    for x in X:\n",
    "        y = a*x + b\n",
    "        Y.append(y)\n",
    "    return Y\n",
    "\n",
    "x = list(range(-10, 10))\n",
    "y = line(x, 2, -2)\n",
    "\n",
    "# plot the line\n",
    "plt.plot(x, y, \"-o\", label=\"Line\")\n",
    "plt.title(\"First Order Polynomial\")\n",
    "plt.xlabel(\"x\")\n",
    "plt.ylabel(\"y\")\n",
    "plt.grid(True)\n",
    "plt.show()\n"
   ]
  },
  {
   "cell_type": "markdown",
   "metadata": {},
   "source": [
    "Your code"
   ]
  },
  {
   "cell_type": "code",
   "execution_count": null,
   "metadata": {},
   "outputs": [],
   "source": []
  }
 ],
 "metadata": {
  "kernelspec": {
   "display_name": "Python 3",
   "language": "python",
   "name": "python3"
  },
  "language_info": {
   "codemirror_mode": {
    "name": "ipython",
    "version": 3
   },
   "file_extension": ".py",
   "mimetype": "text/x-python",
   "name": "python",
   "nbconvert_exporter": "python",
   "pygments_lexer": "ipython3",
   "version": "3.9.6"
  }
 },
 "nbformat": 4,
 "nbformat_minor": 2
}
